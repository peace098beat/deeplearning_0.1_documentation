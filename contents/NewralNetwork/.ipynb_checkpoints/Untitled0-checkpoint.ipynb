{
 "metadata": {
  "name": "",
  "signature": "sha256:3bd10515342078265ec0cea429fc7b1057a3591103f2f7aee75805d19a481e93"
 },
 "nbformat": 3,
 "nbformat_minor": 0,
 "worksheets": [
  {
   "cells": [
    {
     "cell_type": "code",
     "collapsed": false,
     "input": [
      "# -*- coding: utf-8 -*-\n",
      "#-------------------------------------------------------------------------\n",
      "# Name:        NewralNetwork_04.py\n",
      "# Purpose:      First NewralNetwork Algorizm\n",
      "#\n",
      "# Author:     Tomoyuki Nohara\n",
      "#\n",
      "# Created:     06/02/2015\n",
      "#-------------------------------------------------------------------------"
     ],
     "language": "python",
     "metadata": {},
     "outputs": [],
     "prompt_number": 2
    },
    {
     "cell_type": "code",
     "collapsed": false,
     "input": [
      "import numpy as np"
     ],
     "language": "python",
     "metadata": {},
     "outputs": [],
     "prompt_number": 3
    },
    {
     "cell_type": "code",
     "collapsed": false,
     "input": [
      "'''\n",
      "\u524d\u63d0\n",
      "+ \u30d9\u30af\u30c8\u30eb\u306f\u5217\u30d9\u30af\u30c8\u30eb\u304c\u57fa\u672c\u3068\u3059\u308b\n",
      "'''\n",
      "\n",
      "# \u30e6\u30cb\u30c3\u30c8\u6570\n",
      "# P\n",
      "\n",
      "# \u5165\u529b\u30e6\u30cb\u30c3\u30c8\n",
      "# \u7b2c\u4e00\u8981\u7d20\u306f\u30d0\u30a4\u30a2\u30b9\u306e\u305f\u30811\u3068\u3059\u308b\u304c\u4eca\u56de\u306f\u306a\u3057\u3002\n",
      "X = 1\n",
      "\n",
      "# \u91cd\u307f\u30d9\u30af\u30c8\u30eb\n",
      "# W\n",
      "\n",
      "# \u6559\u5e2b\u30c7\u30fc\u30bf\n",
      "# Y\n",
      "\n",
      "# \u5b66\u7fd2\u4fc2\u6570\n",
      "lc = 0.00001"
     ],
     "language": "python",
     "metadata": {},
     "outputs": [],
     "prompt_number": 4
    },
    {
     "cell_type": "code",
     "collapsed": false,
     "input": [
      "def predict(Uvec):\n",
      "\t'''\n",
      "\t\u6d3b\u6027\u5316\u95a2\u6570\n",
      "\t@Uvec:\t\u7d50\u5408\u3055\u308c\u305f\u51fa\u529b\u30e6\u30cb\u30c3\u30c8\n",
      "\t'''\n",
      "\tZ=Uvec\n",
      "\n",
      "\treturn Z\n",
      "\n",
      "def combine(X,W):\n",
      "\t'''\n",
      "\t\u5185\u7a4d\u95a2\u6570\n",
      "\t\u5165\u529b\u30d9\u30af\u30c8\u30ebX\u3068\u91cd\u307f\u30d9\u30af\u30c8\u30ebW\u3068\u3092\u7d50\u5408\u3059\u308b\n",
      "\t@X:\t\u5165\u529b\u30d9\u30af\u30c8\u30eb\n",
      "\t@W:\t\u91cd\u307f\u30d9\u30af\u30c8\u30eb\n",
      "\t'''\n",
      "\t# \u30d9\u30af\u30c8\u30ebX\u3068\u30d9\u30af\u30c8\u30ebY\u3068\u306e\u5185\u7a4d\u3092\u3068\u308b\n",
      "\tUvec = np.dot(X,W)\n",
      "\n",
      "\treturn Uvec\n",
      "\n",
      "def sqLoss(Y, Z):\n",
      "\t'''\n",
      "\t\u4e8c\u4e57\u8aa4\u5dee\u95a2\u6570\n",
      "\t@Y:\t\u6559\u5e2b\u5024\n",
      "\t@Z:\t\u51fa\u529b\u5024\n",
      "\t'''\n",
      "\tR = np.sum( (Y-Z)^2 )\n",
      "\treturn R\n",
      "\n",
      "def deltaWvec(Y,Z,X):\n",
      "\t'''\n",
      "\t\u30c7\u30eb\u30bf\u30eb\u30fc\u30eb\n",
      "\t\u91cd\u307f\u30d9\u30af\u30c8\u30ebW\u3092\u66f4\u65b0\u3059\u308b\u305f\u3081\u306e\u5909\u5316\u91cf\u3092\u7b97\u51fa\n",
      "\t'''\n",
      "\t# \u3059\u3079\u3066\u306e\u5b66\u7fd2\u30c7\u30fc\u30bf\u5bfe\u306e\u30c7\u30eb\u30bf\u3092\u4e8c\u4e57\u52a0\u7b97\n",
      "\tdelta = Y-Z\t\n",
      "\tdW = lc*delta*X\n",
      "\n",
      "\treturn dW\n",
      "\n",
      "def training():\n",
      "\t'''\n",
      "\t\u5b66\u7fd2\u8981\u95a2\u6570\n",
      "\t\u6559\u5e2b\u30c7\u30fc\u30bf\u3068\u3001\u51fa\u529b\u7d50\u679cZ\u304b\u3089W\u306e\u5909\u5316\u5024\u3092\u6c42\u3081\u3001W\u3092\u66f4\u65b0\u3059\u308b\u3002\n",
      "\t'''\n",
      "\t# N\u306f\u6559\u5e2b\u30c7\u30fc\u30bf\u6570\u3001p\u306f\u30e6\u30cb\u30c3\u30c8\u6570\n",
      "\tN = 10\n",
      "\tfor i in range(N):\n",
      "\n",
      "\t\tdeffW[p] = deffW[p] + dW[p][i]\n",
      "\t\n",
      "\tW[p] = w[p] + deffW[p]\n",
      "\n",
      "\n",
      "def dataModel(X, W0):\n",
      "\t_Y = np.dot(W0, X)\n",
      "\treturn _Y"
     ],
     "language": "python",
     "metadata": {},
     "outputs": [],
     "prompt_number": 5
    },
    {
     "cell_type": "code",
     "collapsed": false,
     "input": [
      "if __name__ == \"__main__\":\n",
      "\t'''\n",
      "\t\u30b1\u30fc\u30b9\u30b9\u30bf\u30c7\u30a3\n",
      "\ty = 2*x1 + 3*x2\u3092\u8003\u3048\u308b\u3002\n",
      "\tx1, x2\u3092\u30e9\u30f3\u30c0\u30e0\u306b\u9078\u3073\u3001y\u3092\u751f\u6210\u3059\u308b\u3002\n",
      "\t\u524d\u63d0\u6761\u4ef6\n",
      "\t\u914d\u5217\u306f\u5ba3\u8a00\u6642\u306bnp.array\u578b\u3067\u751f\u6210\n",
      "\t'''\n",
      "    "
     ],
     "language": "python",
     "metadata": {},
     "outputs": [],
     "prompt_number": 6
    },
    {
     "cell_type": "code",
     "collapsed": false,
     "input": [
      "\t# \u30c7\u30fc\u30bf\u30bb\u30c3\u30c8\u306e\u4f5c\u6210\n",
      "\tW0 = (2,3)\n",
      "\t_X1 = [60,100,80,70,90,0,100,90,10,70]\n",
      "\t_X2 = [80,10,90,60,70,40,90,10,40,80]\n",
      "\tX1 = np.array(_X1)\n",
      "\tX2 = np.array(_X2)\n",
      "\tX = np.array((X1,X2))\n",
      "\tY = dataModel(X,W0)"
     ],
     "language": "python",
     "metadata": {},
     "outputs": [],
     "prompt_number": 7
    },
    {
     "cell_type": "code",
     "collapsed": false,
     "input": [
      "\t# \u91cd\u307f\u30d9\u30af\u30c8\u30eb\u306e\u5b9a\u7fa9\n",
      "\t_W = [1,1]\t# \u521d\u671f\u5024\n",
      "\tW = np.array(_W)\n",
      "    # \u6700\u521d\u306e\u4e88\u6e2c\u5024\n",
      "\tZ = np.dot(W,X)\n",
      "\tprint 'X =', X\n",
      "\tprint 'W =', W\n",
      "\tprint 'Z =', Z\n",
      "\tprint 'Y =', Y\n",
      "\n",
      "\td = Y - Z\n",
      "\tprint 'd =', d\n",
      "\tdd = d*d\n",
      "\tprint 'd^2 =', dd\n",
      "\n",
      "\t# W[0,:] = lc * d * X[0,:]\n",
      "\tfor i in range(1):\n",
      "\t\tfor j in range(len(X)):\n",
      "\t\t\tprint i,j\n",
      "\t\t\tW[i,j] = lc * d[j] * X[i,j]"
     ],
     "language": "python",
     "metadata": {},
     "outputs": [
      {
       "output_type": "stream",
       "stream": "stdout",
       "text": [
        "X = [[ 60 100  80  70  90   0 100  90  10  70]\n",
        " [ 80  10  90  60  70  40  90  10  40  80]]\n",
        "W = [1 1]\n",
        "Z = [140 110 170 130 160  40 190 100  50 150]\n",
        "Y = [360 230 430 320 390 120 470 210 140 380]\n",
        "d = [220 120 260 190 230  80 280 110  90 230]\n",
        "d^2 = [48400 14400 67600 36100 52900  6400 78400 12100  8100 52900]\n",
        "0 0\n"
       ]
      },
      {
       "ename": "IndexError",
       "evalue": "too many indices for array",
       "output_type": "pyerr",
       "traceback": [
        "\u001b[0;31m---------------------------------------------------------------------------\u001b[0m\n\u001b[0;31mIndexError\u001b[0m                                Traceback (most recent call last)",
        "\u001b[0;32m<ipython-input-8-3cb04e73aa6a>\u001b[0m in \u001b[0;36m<module>\u001b[0;34m()\u001b[0m\n\u001b[1;32m     18\u001b[0m         \u001b[0;32mfor\u001b[0m \u001b[0mj\u001b[0m \u001b[0;32min\u001b[0m \u001b[0mrange\u001b[0m\u001b[0;34m(\u001b[0m\u001b[0mlen\u001b[0m\u001b[0;34m(\u001b[0m\u001b[0mX\u001b[0m\u001b[0;34m)\u001b[0m\u001b[0;34m)\u001b[0m\u001b[0;34m:\u001b[0m\u001b[0;34m\u001b[0m\u001b[0m\n\u001b[1;32m     19\u001b[0m                 \u001b[0;32mprint\u001b[0m \u001b[0mi\u001b[0m\u001b[0;34m,\u001b[0m\u001b[0mj\u001b[0m\u001b[0;34m\u001b[0m\u001b[0m\n\u001b[0;32m---> 20\u001b[0;31m                 \u001b[0mW\u001b[0m\u001b[0;34m[\u001b[0m\u001b[0mi\u001b[0m\u001b[0;34m,\u001b[0m\u001b[0mj\u001b[0m\u001b[0;34m]\u001b[0m \u001b[0;34m=\u001b[0m \u001b[0mlc\u001b[0m \u001b[0;34m*\u001b[0m \u001b[0md\u001b[0m\u001b[0;34m[\u001b[0m\u001b[0mj\u001b[0m\u001b[0;34m]\u001b[0m \u001b[0;34m*\u001b[0m \u001b[0mX\u001b[0m\u001b[0;34m[\u001b[0m\u001b[0mi\u001b[0m\u001b[0;34m,\u001b[0m\u001b[0mj\u001b[0m\u001b[0;34m]\u001b[0m\u001b[0;34m\u001b[0m\u001b[0m\n\u001b[0m",
        "\u001b[0;31mIndexError\u001b[0m: too many indices for array"
       ]
      }
     ],
     "prompt_number": 8
    },
    {
     "cell_type": "code",
     "collapsed": false,
     "input": [],
     "language": "python",
     "metadata": {},
     "outputs": [],
     "prompt_number": 8
    },
    {
     "cell_type": "code",
     "collapsed": false,
     "input": [],
     "language": "python",
     "metadata": {},
     "outputs": [],
     "prompt_number": 8
    },
    {
     "cell_type": "code",
     "collapsed": false,
     "input": [],
     "language": "python",
     "metadata": {},
     "outputs": [],
     "prompt_number": 8
    },
    {
     "cell_type": "code",
     "collapsed": false,
     "input": [],
     "language": "python",
     "metadata": {},
     "outputs": []
    }
   ],
   "metadata": {}
  }
 ]
}