{
 "metadata": {
  "name": "",
  "signature": "sha256:4f6d35da2f8267208bf01f62df0893d406aa9fe790759ab9ea658e7aacb719a8"
 },
 "nbformat": 3,
 "nbformat_minor": 0,
 "worksheets": [
  {
   "cells": [
    {
     "cell_type": "code",
     "collapsed": false,
     "input": [
      "import numpy as np"
     ],
     "language": "python",
     "metadata": {},
     "outputs": [],
     "prompt_number": 1
    },
    {
     "cell_type": "code",
     "collapsed": false,
     "input": [
      "# \u5165\u529b\u30e6\u30cb\u30c3\u30c8\u6570\n",
      "N = 2\n",
      "# \u6559\u5e2b\u30c7\u30fc\u30bf\u6570\n",
      "M = 50\n",
      "# \u5b66\u7fd2\u4fc2\u6570\n",
      "lc = 0.00001\n",
      "# \u5b66\u7fd2\u56de\u6570\n",
      "Nl = 30000\n",
      "\n",
      "# \u30c7\u30fc\u30bf\u30bb\u30c3\u30c8\u306e\u4f5c\u6210(\u6b63\u89e3\u30c7\u30fc\u30bf\u306e\u4fc2\u6570\u306f\u30e9\u30f3\u30c0\u30e0\u306b\u9078\u3070\u308c\u308b)\n",
      "# W0 = np.arange(1,N+1)\n",
      "W0 = np.array((2,3))\n",
      "# \u9069\u5f53\u306b\u9078\u3070\u308c\u305fXi\u306e\u5024\u304b\u3089\u3001\u6559\u5e2b\u30c7\u30fc\u30bfY\u3092\u4f5c\u6210\u3059\u308b\n",
      "X = np.random.rand(N,M)\n",
      "Y = np.dot(W0,X)\n",
      "\n",
      "# \u91cd\u307f\u30d9\u30af\u30c8\u30eb\u306e\u521d\u671f\u5024\n",
      "W = np.random.rand(N)\n",
      "\n",
      "# \u30d7\u30ed\u30c3\u30c8\u7528\u306b\u8aa4\u5dee\u95a2\u6570\u306e\u5024\u3092\u683c\u7d0d\u3059\u308b\u305f\u3081\u7a7a\u914d\u5217\u3092\u5b9a\u7fa9\n",
      "dd = np.empty([1])\n",
      "\n",
      "for lp in range(Nl):\n",
      "    \n",
      "    # \u51fa\u529b\u30c7\u30fc\u30bf\n",
      "    Z = np.dot(W,X)\n",
      "    # \u8aa4\u5dee\n",
      "    d = Y - Z\n",
      "    # \u4e8c\u4e57\u8aa4\u5dee\u95a2\u6570\n",
      "    _dd = np.sum(d*d)\n",
      "    dd = np.append(dd,_dd)\n",
      "\n",
      "    # \u66f4\u65b0\u306e\u305f\u3081\u306e\u91cd\u307f\u4fc2\u6570\n",
      "    _dW = np.empty((N,M))\n",
      "    dW = np.empty_like(W0)\n",
      "\n",
      "    # \u30d0\u30c3\u30af\u30d7\u30ed\u30d1\u30b2\u30fc\u30b7\u30e7\u30f3\n",
      "    for i in range(N):\n",
      "        for j in range(M):\n",
      "            _dW[i,j] = lc * d[j] * X[i,j]\n",
      "    dW = np.sum(_dW,1)\n",
      "    \n",
      "    # \u91cd\u307f\u30d9\u30af\u30c8\u30eb\u306e\u66f4\u65b0\n",
      "    W = W + np.sum(_dW,1)\n",
      "    # W = W + dW\n",
      "    lmin = 0.01\n",
      "    if dd[dd.size-1] < lmin:\n",
      "        break\n",
      "print 'end',lp,'/',Nl"
     ],
     "language": "python",
     "metadata": {},
     "outputs": [
      {
       "output_type": "stream",
       "stream": "stdout",
       "text": [
        "end 64306 / 300000\n"
       ]
      }
     ],
     "prompt_number": 36
    },
    {
     "cell_type": "code",
     "collapsed": false,
     "input": [
      "print '*** \u78ba\u8a8d ***'\n",
      "print 'W0 =', W0\n",
      "print 'W  =', W\n",
      "print 'dd =', dd[dd.size-1]"
     ],
     "language": "python",
     "metadata": {},
     "outputs": [
      {
       "output_type": "stream",
       "stream": "stdout",
       "text": [
        "*** \u78ba\u8a8d ***\n",
        "W0 = [2 3]\n",
        "W  = [ 2.0341496   2.96529807]\n",
        "dd = 0.00999963437845\n"
       ]
      }
     ],
     "prompt_number": 37
    },
    {
     "cell_type": "code",
     "collapsed": false,
     "input": [
      "\timport matplotlib.pyplot as plt\n",
      "\n",
      "\t# \u4e8c\u4e57\u8aa4\u5dee\u306e\u30d7\u30ed\u30c3\u30c8\n",
      "\tplt.plot(dd)\n",
      "\tplt.show()"
     ],
     "language": "python",
     "metadata": {},
     "outputs": [
      {
       "metadata": {},
       "output_type": "display_data",
       "png": "[encoded data removed]",
       "text": [
        "<matplotlib.figure.Figure at 0x109db63d0>"
       ]
      }
     ],
     "prompt_number": 38
    }
   ],
   "metadata": {}
  }
 ]
}